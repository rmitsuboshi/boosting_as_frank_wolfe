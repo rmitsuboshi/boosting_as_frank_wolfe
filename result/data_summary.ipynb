{
 "cells": [
  {
   "cell_type": "markdown",
   "id": "41f63631",
   "metadata": {},
   "source": [
    "# Get the number of instances & features of each dataset in benchmark datasets"
   ]
  },
  {
   "cell_type": "code",
   "execution_count": 1,
   "id": "af5efc58",
   "metadata": {},
   "outputs": [],
   "source": [
    "# -*- coding: utf-8 -*-\n",
    "import pandas as pd\n",
    "# import matplotlib.pyplot as plt\n",
    "# %matplotlib inline\n",
    "# import seaborn as sns"
   ]
  },
  {
   "cell_type": "code",
   "execution_count": 11,
   "id": "5d8c62d7",
   "metadata": {},
   "outputs": [],
   "source": [
    "DATASET = [\n",
    "    \"banana\",\n",
    "    \"breast_cancer\",\n",
    "    \"diabetis\",\n",
    "    \"flare_solar\",\n",
    "    \"german\",\n",
    "    \"heart\",\n",
    "    \"image\",\n",
    "    \"ringnorm\",\n",
    "    \"splice\",\n",
    "    \"thyroid\",\n",
    "    \"titanic\",\n",
    "    \"twonorm\",\n",
    "    \"waveform\",\n",
    "]\n",
    "PATH = \"~/Documents/Datasets/benchmarks\""
   ]
  },
  {
   "cell_type": "code",
   "execution_count": 12,
   "id": "ca188e2e",
   "metadata": {},
   "outputs": [],
   "source": [
    "size = list()\n",
    "feat = list()\n",
    "for dataset in DATASET:\n",
    "    file = f\"{PATH}/{dataset}.csv\"\n",
    "    df = pd.read_csv(file)\n",
    "\n",
    "    size.append(df.shape[0])\n",
    "    feat.append(df.shape[1])\n",
    "\n",
    "data = {\n",
    "    \"Size\": size,\n",
    "    \"Feature\": feat,\n",
    "}\n",
    "df = pd.DataFrame(data=data, index=DATASET)"
   ]
  },
  {
   "cell_type": "code",
   "execution_count": 13,
   "id": "f1f7aa7a",
   "metadata": {},
   "outputs": [],
   "source": [
    "OUT_FILE = \"./benchmark_summary.csv\"\n",
    "df.to_csv(OUT_FILE, index_label=\"Dataset\")"
   ]
  },
  {
   "cell_type": "code",
   "execution_count": 14,
   "id": "1db9f5c6",
   "metadata": {},
   "outputs": [
    {
     "data": {
      "text/html": [
       "<div>\n",
       "<style scoped>\n",
       "    .dataframe tbody tr th:only-of-type {\n",
       "        vertical-align: middle;\n",
       "    }\n",
       "\n",
       "    .dataframe tbody tr th {\n",
       "        vertical-align: top;\n",
       "    }\n",
       "\n",
       "    .dataframe thead th {\n",
       "        text-align: right;\n",
       "    }\n",
       "</style>\n",
       "<table border=\"1\" class=\"dataframe\">\n",
       "  <thead>\n",
       "    <tr style=\"text-align: right;\">\n",
       "      <th></th>\n",
       "      <th>Size</th>\n",
       "      <th>Feature</th>\n",
       "    </tr>\n",
       "    <tr>\n",
       "      <th>Dataset</th>\n",
       "      <th></th>\n",
       "      <th></th>\n",
       "    </tr>\n",
       "  </thead>\n",
       "  <tbody>\n",
       "    <tr>\n",
       "      <th>banana</th>\n",
       "      <td>5300</td>\n",
       "      <td>3</td>\n",
       "    </tr>\n",
       "    <tr>\n",
       "      <th>breast_cancer</th>\n",
       "      <td>263</td>\n",
       "      <td>10</td>\n",
       "    </tr>\n",
       "    <tr>\n",
       "      <th>diabetis</th>\n",
       "      <td>768</td>\n",
       "      <td>9</td>\n",
       "    </tr>\n",
       "    <tr>\n",
       "      <th>flare_solar</th>\n",
       "      <td>144</td>\n",
       "      <td>10</td>\n",
       "    </tr>\n",
       "    <tr>\n",
       "      <th>german</th>\n",
       "      <td>1000</td>\n",
       "      <td>21</td>\n",
       "    </tr>\n",
       "    <tr>\n",
       "      <th>heart</th>\n",
       "      <td>270</td>\n",
       "      <td>14</td>\n",
       "    </tr>\n",
       "    <tr>\n",
       "      <th>image</th>\n",
       "      <td>2086</td>\n",
       "      <td>19</td>\n",
       "    </tr>\n",
       "    <tr>\n",
       "      <th>ringnorm</th>\n",
       "      <td>7400</td>\n",
       "      <td>21</td>\n",
       "    </tr>\n",
       "    <tr>\n",
       "      <th>splice</th>\n",
       "      <td>2991</td>\n",
       "      <td>61</td>\n",
       "    </tr>\n",
       "    <tr>\n",
       "      <th>thyroid</th>\n",
       "      <td>215</td>\n",
       "      <td>6</td>\n",
       "    </tr>\n",
       "    <tr>\n",
       "      <th>titanic</th>\n",
       "      <td>24</td>\n",
       "      <td>4</td>\n",
       "    </tr>\n",
       "    <tr>\n",
       "      <th>twonorm</th>\n",
       "      <td>7400</td>\n",
       "      <td>21</td>\n",
       "    </tr>\n",
       "    <tr>\n",
       "      <th>waveform</th>\n",
       "      <td>5000</td>\n",
       "      <td>22</td>\n",
       "    </tr>\n",
       "  </tbody>\n",
       "</table>\n",
       "</div>"
      ],
      "text/plain": [
       "               Size  Feature\n",
       "Dataset                     \n",
       "banana         5300        3\n",
       "breast_cancer   263       10\n",
       "diabetis        768        9\n",
       "flare_solar     144       10\n",
       "german         1000       21\n",
       "heart           270       14\n",
       "image          2086       19\n",
       "ringnorm       7400       21\n",
       "splice         2991       61\n",
       "thyroid         215        6\n",
       "titanic          24        4\n",
       "twonorm        7400       21\n",
       "waveform       5000       22"
      ]
     },
     "execution_count": 14,
     "metadata": {},
     "output_type": "execute_result"
    }
   ],
   "source": [
    "df = pd.read_csv(OUT_FILE, index_col=\"Dataset\")\n",
    "df"
   ]
  },
  {
   "cell_type": "code",
   "execution_count": null,
   "id": "7f85f3d6",
   "metadata": {},
   "outputs": [],
   "source": []
  }
 ],
 "metadata": {
  "kernelspec": {
   "display_name": "Python 3 (ipykernel)",
   "language": "python",
   "name": "python3"
  },
  "language_info": {
   "codemirror_mode": {
    "name": "ipython",
    "version": 3
   },
   "file_extension": ".py",
   "mimetype": "text/x-python",
   "name": "python",
   "nbconvert_exporter": "python",
   "pygments_lexer": "ipython3",
   "version": "3.9.10"
  }
 },
 "nbformat": 4,
 "nbformat_minor": 5
}
