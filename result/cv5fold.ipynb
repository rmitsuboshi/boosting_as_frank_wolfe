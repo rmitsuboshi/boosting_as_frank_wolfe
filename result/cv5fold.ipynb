{
 "cells": [
  {
   "cell_type": "markdown",
   "id": "872c7c8e",
   "metadata": {},
   "source": [
    "## Converts cross validation result to `TeX` table format"
   ]
  },
  {
   "cell_type": "code",
   "execution_count": 1,
   "id": "c00c65eb",
   "metadata": {},
   "outputs": [],
   "source": [
    "# -*- coding: utf-8 -*-\n",
    "\n",
    "import pandas as pd"
   ]
  },
  {
   "cell_type": "code",
   "execution_count": 2,
   "id": "f06564b3",
   "metadata": {},
   "outputs": [],
   "source": [
    "DATASET = [\n",
    "    \"banana\",\n",
    "    \"breast_cancer\",\n",
    "    \"diabetis\",\n",
    "    \"flare_solar\",\n",
    "    \"german\",\n",
    "    \"heart\",\n",
    "    \"image\",\n",
    "    \"ringnorm\",\n",
    "    \"splice\",\n",
    "    \"thyroid\",\n",
    "    \"titanic\",\n",
    "    \"twonorm\",\n",
    "    \"waveform\",\n",
    "]\n",
    "\n",
    "BOOSTERS = [\"lpb\", \"erlpb\", \"mlpb\"]\n",
    "\n",
    "PATH = \"./cv5fold\"\n",
    "\n",
    "# CAP_SIZE = 5 # size of capping parameters: |{0.1, 0.2, 0.3, 0.4, 0.5}|\n",
    "\n",
    "# \"lpb_train,lpb_test,erlpb_train,erlpb_test,mlpb_train,mlpb_test,lpb_iter,erlpb_iter,mlpb_iter,mlpb_lpcall\""
   ]
  },
  {
   "cell_type": "code",
   "execution_count": 12,
   "id": "61a43417",
   "metadata": {},
   "outputs": [
    {
     "data": {
      "text/plain": [
       "dataset\n",
       "image            0.10\n",
       "splice           0.11\n",
       "banana           0.28\n",
       "breast_cancer    0.40\n",
       "diabetis         0.26\n",
       "flare_solar      0.38\n",
       "german           0.28\n",
       "heart            0.24\n",
       "ringnorm         0.18\n",
       "thyroid          0.09\n",
       "titanic          0.60\n",
       "twonorm          0.03\n",
       "Name: lpb, dtype: float64"
      ]
     },
     "execution_count": 12,
     "metadata": {},
     "output_type": "execute_result"
    }
   ],
   "source": [
    "df = pd.read_csv(f\"{PATH}/losses.csv\", index_col=\"dataset\")"
   ]
  },
  {
   "cell_type": "code",
   "execution_count": 16,
   "id": "2bf61ded",
   "metadata": {},
   "outputs": [],
   "source": [
    "ROW_NAMES = {\n",
    "    \"banana\":        \"Banana\",\n",
    "    \"breast_cancer\": \"B.Cancer\",\n",
    "    \"diabetis\":      \"Diabetes\",\n",
    "    \"flare_solar\":   \"F.Solar\",\n",
    "    \"german\":        \"German\",\n",
    "    \"heart\":         \"Heart\",\n",
    "    \"image\":         \"Image\",\n",
    "    \"ringnorm\":      \"Ringnorm\",\n",
    "    \"splice\":        \"Splice\",\n",
    "    \"thyroid\":       \"Thyroid\",\n",
    "    \"titanic\":       \"Titanic\",\n",
    "    \"twonorm\":       \"Twonorm\",\n",
    "    # \"waveform\":      \"Waveform\",\n",
    "}\n",
    "\n",
    "COL_NAMES = {\n",
    "    \"lpb\":   \"LPB.\",\n",
    "    \"erlpb\": \"ERLPB.\",\n",
    "    \"mlpb\":  \"MLPB. (SS)\",\n",
    "}\n",
    "\n",
    "\n",
    "MAX_ROW_SIZE = 8\n",
    "MAX_COL_SIZE = 10"
   ]
  },
  {
   "cell_type": "markdown",
   "id": "c23f2561",
   "metadata": {},
   "source": [
    "## Create a `TeX` table"
   ]
  },
  {
   "cell_type": "code",
   "execution_count": 17,
   "id": "23aee4e4",
   "metadata": {},
   "outputs": [
    {
     "name": "stdout",
     "output_type": "stream",
     "text": [
      "\\begin{tabular}{lrrr}\n",
      "    \\toprule\n",
      "\t         &       LPB. &     ERLPB. & MLPB. (SS) \\\\ \\midrule \\addlinespace[0.5em]\n",
      "\tBanana   &       0.28 &       0.37 &       0.10 \\\\          \\addlinespace[0.5em]\n",
      "\tB.Cancer &       0.40 &       0.49 &       0.28 \\\\          \\addlinespace[0.5em]\n",
      "\tDiabetes &       0.26 &       0.26 &       0.24 \\\\          \\addlinespace[0.5em]\n",
      "\tF.Solar  &       0.38 &       0.52 &       0.69 \\\\          \\addlinespace[0.5em]\n",
      "\tGerman   &       0.28 &       0.35 &       0.27 \\\\          \\addlinespace[0.5em]\n",
      "\tHeart    &       0.24 &       0.29 &       0.17 \\\\          \\addlinespace[0.5em]\n",
      "\tImage    &       0.10 &       0.20 &       0.02 \\\\          \\addlinespace[0.5em]\n",
      "\tRingnorm &       0.18 &       0.18 &       0.03 \\\\          \\addlinespace[0.5em]\n",
      "\tSplice   &       0.11 &       0.10 &       0.05 \\\\          \\addlinespace[0.5em]\n",
      "\tThyroid  &       0.09 &       0.05 &       0.05 \\\\          \\addlinespace[0.5em]\n",
      "\tTitanic  &       0.60 &       0.60 &       0.60 \\\\          \\addlinespace[0.5em]\n",
      "\tTwonorm  &       0.03 &       0.04 &       0.03 \\\\          \\addlinespace[0.5em]\n",
      "    \\bottomrule\n",
      "\\end{tabular}\n"
     ]
    }
   ],
   "source": [
    "PREFIX = \"\\\\begin{tabular}{lrrr}\\n\" + \"    \\\\toprule\\n\"\n",
    "\n",
    "SUFFIX = \"    \\\\bottomrule\\n\" + \"\\\\end{tabular}\"\n",
    "\n",
    "\n",
    "# ++++++\n",
    "# HEADER\n",
    "HEADER = \" \" * MAX_ROW_SIZE\n",
    "for booster in BOOSTERS:\n",
    "    HEADER = f\"{HEADER} & {COL_NAMES[booster]:>{MAX_COL_SIZE}}\"\n",
    "HEADER = f\"\\t{HEADER} \\\\\\\\ \\\\midrule \\\\addlinespace[0.5em]\\n\"\n",
    "\n",
    "contents = \"\"\n",
    "\n",
    "# ++++++\n",
    "# TABLE\n",
    "for index, (dataset, row_name) in enumerate(ROW_NAMES.items()):\n",
    "    row = f\"\\t{row_name:<{MAX_ROW_SIZE}}\"\n",
    "    \n",
    "    for booster in BOOSTERS:\n",
    "        s = f\"{df[booster][dataset]:>1.2f}\"\n",
    "        row = f\"{row} & {s:>{MAX_COL_SIZE}}\"\n",
    "    row = f\"{row} \\\\\\\\          \\\\addlinespace[0.5em]\\n\"\n",
    "    contents += row\n",
    "\n",
    "\n",
    "contents = PREFIX + HEADER + contents + SUFFIX\n",
    "print(contents)"
   ]
  },
  {
   "cell_type": "code",
   "execution_count": 18,
   "id": "47290e45",
   "metadata": {},
   "outputs": [],
   "source": [
    "file = \"./../table/cv5fold.tex\"\n",
    "with open(file, mode='w') as f:\n",
    "    f.write(contents)"
   ]
  },
  {
   "cell_type": "code",
   "execution_count": 20,
   "id": "1086eaaf",
   "metadata": {},
   "outputs": [
    {
     "name": "stdout",
     "output_type": "stream",
     "text": [
      "\\begin{tabular}{lrrr}\r\n",
      "    \\toprule\r\n",
      "\t         &       LPB. &     ERLPB. & MLPB. (SS) \\\\ \\midrule \\addlinespace[0.5em]\r\n",
      "\tBanana   &       0.28 &       0.37 &       0.10 \\\\          \\addlinespace[0.5em]\r\n",
      "\tB.Cancer &       0.40 &       0.49 &       0.28 \\\\          \\addlinespace[0.5em]\r\n",
      "\tDiabetes &       0.26 &       0.26 &       0.24 \\\\          \\addlinespace[0.5em]\r\n",
      "\tF.Solar  &       0.38 &       0.52 &       0.69 \\\\          \\addlinespace[0.5em]\r\n",
      "\tGerman   &       0.28 &       0.35 &       0.27 \\\\          \\addlinespace[0.5em]\r\n",
      "\tHeart    &       0.24 &       0.29 &       0.17 \\\\          \\addlinespace[0.5em]\r\n",
      "\tImage    &       0.10 &       0.20 &       0.02 \\\\          \\addlinespace[0.5em]\r\n",
      "\tRingnorm &       0.18 &       0.18 &       0.03 \\\\          \\addlinespace[0.5em]\r\n",
      "\tSplice   &       0.11 &       0.10 &       0.05 \\\\          \\addlinespace[0.5em]\r\n",
      "\tThyroid  &       0.09 &       0.05 &       0.05 \\\\          \\addlinespace[0.5em]\r\n",
      "\tTitanic  &       0.60 &       0.60 &       0.60 \\\\          \\addlinespace[0.5em]\r\n",
      "\tTwonorm  &       0.03 &       0.04 &       0.03 \\\\          \\addlinespace[0.5em]\r\n",
      "    \\bottomrule\r\n",
      "\\end{tabular}"
     ]
    }
   ],
   "source": [
    "!cat ../table/cv5fold.tex"
   ]
  },
  {
   "cell_type": "code",
   "execution_count": null,
   "id": "ea8092c3",
   "metadata": {},
   "outputs": [],
   "source": []
  }
 ],
 "metadata": {
  "kernelspec": {
   "display_name": "Python 3 (ipykernel)",
   "language": "python",
   "name": "python3"
  },
  "language_info": {
   "codemirror_mode": {
    "name": "ipython",
    "version": 3
   },
   "file_extension": ".py",
   "mimetype": "text/x-python",
   "name": "python",
   "nbconvert_exporter": "python",
   "pygments_lexer": "ipython3",
   "version": "3.9.10"
  }
 },
 "nbformat": 4,
 "nbformat_minor": 5
}
